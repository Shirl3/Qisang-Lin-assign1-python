{
  "cells": [
    {
      "cell_type": "markdown",
      "id": "24b98369-c7ba-450b-a8b5-e34319000695",
      "metadata": {
        "editable": true,
        "id": "24b98369-c7ba-450b-a8b5-e34319000695",
        "tags": []
      },
      "source": [
        "# Python for Data Science\n",
        "## Session 3\n",
        "### Object Oriented Programming"
      ]
    },
    {
      "cell_type": "markdown",
      "id": "3ace1343-d73d-466d-aa07-56febbb7cbf1",
      "metadata": {
        "editable": true,
        "id": "3ace1343-d73d-466d-aa07-56febbb7cbf1",
        "tags": []
      },
      "source": [
        "---"
      ]
    },
    {
      "cell_type": "markdown",
      "id": "c5ffee69-5d4d-4f1c-9ed7-083afbc931ec",
      "metadata": {
        "editable": true,
        "id": "c5ffee69-5d4d-4f1c-9ed7-083afbc931ec",
        "tags": []
      },
      "source": [
        "## Outline\n",
        "1. Classes and objects\n",
        "2. Abstraction and Inheritance\n",
        "3. Polymorphism and Encapsulation"
      ]
    },
    {
      "cell_type": "markdown",
      "id": "aba315f4-e9bf-4a66-b3d3-593037c3ca70",
      "metadata": {
        "editable": true,
        "id": "aba315f4-e9bf-4a66-b3d3-593037c3ca70",
        "tags": []
      },
      "source": [
        "---"
      ]
    },
    {
      "cell_type": "markdown",
      "id": "8ed45dcb-2cf5-4bfa-ba6e-5da25c59757c",
      "metadata": {
        "editable": true,
        "id": "8ed45dcb-2cf5-4bfa-ba6e-5da25c59757c",
        "tags": []
      },
      "source": [
        "## Object Oriented programming\n",
        "\n",
        "In Data science there are three different types of programming paradigms:\n",
        "\n",
        "1. **Object-oriented programming** organizes code using objects that represent real-world entities. It provides modularity, code reuse and abstraction, making it suitable for handling large and complex applications.\n",
        "\n",
        "2. **Functional programming** emphasizes the use of **pure functions** that can be easily composed and reused, ideal for transforming data.\n",
        "\n",
        "3. **Declarative programming** consists in specifyin what the program should accomplish, rather than how to accomplish it.\n",
        "\n"
      ]
    },
    {
      "cell_type": "markdown",
      "id": "42f9f227-0941-4967-9a4b-c282bb0e4cfc",
      "metadata": {
        "editable": true,
        "id": "42f9f227-0941-4967-9a4b-c282bb0e4cfc",
        "tags": []
      },
      "source": [
        "**Pure functions** are functions that always produce the same output for the same input and haven't got any side effects, meaning it does not modify external states or variables."
      ]
    },
    {
      "cell_type": "markdown",
      "id": "00b01ced-eda7-423f-8522-96bd3f1a4125",
      "metadata": {
        "editable": true,
        "id": "00b01ced-eda7-423f-8522-96bd3f1a4125",
        "tags": []
      },
      "source": [
        "---"
      ]
    },
    {
      "cell_type": "markdown",
      "id": "9434c993-aac1-4655-bf69-477b9dc5d2ee",
      "metadata": {
        "editable": true,
        "id": "9434c993-aac1-4655-bf69-477b9dc5d2ee",
        "tags": []
      },
      "source": [
        "## Object Oriented programming\n",
        "\n",
        "OOP main concepts are:\n",
        "\n",
        "1. **Class**: A template to create objects.\n",
        "2. **Object**: An instance of a class, representing a specific entity.\n",
        "3. **Attributes**: Properties of an object (variables within a class that define it).\n",
        "4. **Methods**: Actions that objects can perform (functions within a class)."
      ]
    },
    {
      "cell_type": "code",
      "execution_count": 1,
      "id": "1e350f15-ae19-4323-a1c6-25d80118a5f3",
      "metadata": {
        "editable": true,
        "id": "1e350f15-ae19-4323-a1c6-25d80118a5f3",
        "tags": []
      },
      "outputs": [],
      "source": [
        "class Pet:\n",
        "    pass  # Empty class as a placeholder"
      ]
    },
    {
      "cell_type": "code",
      "execution_count": 2,
      "id": "2e427c6d-a0fc-47de-a6e8-de71ae500619",
      "metadata": {
        "editable": true,
        "id": "2e427c6d-a0fc-47de-a6e8-de71ae500619",
        "tags": []
      },
      "outputs": [],
      "source": [
        "my_pet = Pet() # Instance of a class"
      ]
    },
    {
      "cell_type": "code",
      "execution_count": 3,
      "id": "1cda9d57-aedb-4e70-af5b-7193174a2430",
      "metadata": {
        "editable": true,
        "id": "1cda9d57-aedb-4e70-af5b-7193174a2430",
        "tags": []
      },
      "outputs": [],
      "source": [
        "# Note: self refers to the instance of the class and is used to access its attributes and methods\n",
        "class Pet:\n",
        "    def __init__(self, name): # constructor\n",
        "        self.name = name"
      ]
    },
    {
      "cell_type": "code",
      "execution_count": 5,
      "id": "c4f13ca9-dd0a-4b53-8f30-5a507979b1ed",
      "metadata": {
        "editable": true,
        "id": "c4f13ca9-dd0a-4b53-8f30-5a507979b1ed",
        "tags": []
      },
      "outputs": [],
      "source": [
        "class Pet:\n",
        "    def __init__(self, name): # constructor\n",
        "        self.name = name # Instance attribute\n",
        "        self.age = None # Instance attribute set to None\n",
        "\n",
        "    def set_age(self, age): # Method\n",
        "        self.age = age"
      ]
    },
    {
      "cell_type": "markdown",
      "id": "92887f1e-c2b9-4abc-9324-af4c15250c3a",
      "metadata": {
        "editable": true,
        "id": "92887f1e-c2b9-4abc-9324-af4c15250c3a",
        "tags": []
      },
      "source": [
        "---"
      ]
    },
    {
      "cell_type": "markdown",
      "id": "d6c81e01-e268-4490-b970-b9f3d7a08d30",
      "metadata": {
        "editable": true,
        "id": "d6c81e01-e268-4490-b970-b9f3d7a08d30",
        "tags": []
      },
      "source": [
        "## Object Oriented programming\n",
        "### Abstraction\n",
        "\n",
        "Abstraction consists in hiding any variables and internal parts of an object that don’t need to be shown during interaction. Making only available the essential functionalities.\n",
        "\n",
        "You may want to call a method from an object that searches for something in an internal list, and in this case, you don't need to see the algorithm behind it, you just need to call the method and get what you want."
      ]
    },
    {
      "cell_type": "markdown",
      "id": "23e1e6b4-322a-4cd5-8a82-72877cc98804",
      "metadata": {
        "editable": true,
        "id": "23e1e6b4-322a-4cd5-8a82-72877cc98804",
        "tags": []
      },
      "source": [
        "## Object Oriented programming\n",
        "### Inheritance\n",
        "\n",
        "Inheritance permits any class to inherit attributes and methods from another class. This reduces code duplication and enables the creation of specialized classes based on general ones."
      ]
    },
    {
      "cell_type": "code",
      "execution_count": 8,
      "id": "76c58110-a965-432f-8dcf-f457079fec65",
      "metadata": {
        "editable": true,
        "id": "76c58110-a965-432f-8dcf-f457079fec65",
        "tags": []
      },
      "outputs": [],
      "source": [
        "class Pet:\n",
        "    def __init__(self, age, name): # Constructor\n",
        "        self.age = age # Attribute\n",
        "        self.name = name # Attribute\n",
        "\n",
        "    def describe(self): # Method\n",
        "        print(f\"This pet's name is {self.name}.\")\n",
        "\n",
        "class Dog(Pet):\n",
        "    def __init__(self, age, name, breed): # Constructor\n",
        "        super().__init__(age, name)  # Call the parent class's __init__ method\n",
        "        self.breed = breed # New attribute for this specialized class\n",
        "\n",
        "    def describe(self):\n",
        "        super().describe()  # Call the parent class's describe method\n",
        "        print(f\"This dog is {self.age} years old and is a {self.breed}.\")"
      ]
    },
    {
      "cell_type": "code",
      "execution_count": 9,
      "id": "48301f74-ece3-49ec-9332-2c168743ebc8",
      "metadata": {
        "editable": true,
        "id": "48301f74-ece3-49ec-9332-2c168743ebc8",
        "tags": []
      },
      "outputs": [],
      "source": [
        "my_dog = Dog(3, 'Rock', 'Great Dane')"
      ]
    },
    {
      "cell_type": "code",
      "execution_count": 10,
      "id": "eae7678f-665a-4916-96d2-3926a312aea5",
      "metadata": {
        "editable": true,
        "id": "eae7678f-665a-4916-96d2-3926a312aea5",
        "outputId": "3abb92a2-d911-43f9-bf4b-bb7ecdaf371f",
        "tags": []
      },
      "outputs": [
        {
          "name": "stdout",
          "output_type": "stream",
          "text": [
            "This pet's name is Rock.\n",
            "This dog is 3 years old and is a Great Dane.\n"
          ]
        }
      ],
      "source": [
        "my_dog.describe()"
      ]
    },
    {
      "cell_type": "markdown",
      "id": "220f9368-0c1a-4ac8-9785-a33b11e5df77",
      "metadata": {
        "editable": true,
        "id": "220f9368-0c1a-4ac8-9785-a33b11e5df77",
        "tags": []
      },
      "source": [
        "---"
      ]
    },
    {
      "cell_type": "markdown",
      "id": "88ff8053-d1d0-4c08-b8e5-6c84e94c4f24",
      "metadata": {
        "editable": true,
        "id": "88ff8053-d1d0-4c08-b8e5-6c84e94c4f24",
        "tags": []
      },
      "source": [
        "## Object Oriented programming\n",
        "### Polymorphism\n",
        "\n",
        "It allows the same method name to behave differently based on the object calling it, which can be achieved through method overriding."
      ]
    },
    {
      "cell_type": "code",
      "execution_count": 9,
      "id": "db4cd9e2-0188-4511-a81b-070221d74af5",
      "metadata": {
        "editable": true,
        "id": "db4cd9e2-0188-4511-a81b-070221d74af5",
        "tags": []
      },
      "outputs": [],
      "source": [
        "class Cat(Pet):\n",
        "    def __init__(self, age, name, breed): # Constructor\n",
        "        super().__init__(age, name)  # Call the parent class's __init__ method\n",
        "        self.breed = breed # New attribute for this specialized class\n",
        "\n",
        "    def describe(self): # Method\n",
        "        print(f\"This super cat is {self.age} years old and is a {self.breed}.\")"
      ]
    },
    {
      "cell_type": "code",
      "execution_count": 10,
      "id": "ced1143b-98db-46db-8e90-fed185aad835",
      "metadata": {
        "editable": true,
        "id": "ced1143b-98db-46db-8e90-fed185aad835",
        "outputId": "3c3d99c3-5191-40d9-a25c-9d4516c6ca93",
        "tags": []
      },
      "outputs": [
        {
          "name": "stdout",
          "output_type": "stream",
          "text": [
            "This super cat is 7 years old and is a Siamese.\n"
          ]
        }
      ],
      "source": [
        "my_cat = Cat(7, 'Bella', 'Siamese')\n",
        "my_cat.describe()"
      ]
    },
    {
      "cell_type": "markdown",
      "id": "cd327548-f048-4d39-9b72-6dff6cd6963d",
      "metadata": {
        "editable": true,
        "id": "cd327548-f048-4d39-9b72-6dff6cd6963d",
        "tags": []
      },
      "source": [
        "---"
      ]
    },
    {
      "cell_type": "markdown",
      "id": "854b31bb-2b21-42fd-939a-f82f71a549f0",
      "metadata": {
        "editable": true,
        "id": "854b31bb-2b21-42fd-939a-f82f71a549f0",
        "tags": []
      },
      "source": [
        "## Object Oriented programming\n",
        "### Encapsulation\n",
        "\n",
        "It consists in restricting access to variables and methods outside the object. This way we ensure the integrity of the data within the object.\n",
        "\n",
        "In python, prefixing a variable or method name with an underscore **_** indicates that it is intended for internal use only, while a double underscore **__** modifies the variable name for better encapsulation.\n",
        "\n",
        "It is worth mentioning that this is a convention, and variables and methods are still accessible."
      ]
    },
    {
      "cell_type": "code",
      "execution_count": 11,
      "id": "33e1bdf2-8798-41f1-9ed3-957c730dc9ad",
      "metadata": {
        "editable": true,
        "id": "33e1bdf2-8798-41f1-9ed3-957c730dc9ad",
        "tags": []
      },
      "outputs": [],
      "source": [
        "class Student:\n",
        "    def __init__(self, name, age, address=None):\n",
        "        self.name = name # Public attribute\n",
        "        self._age =   age # Private attribute\n",
        "        self._address = address  # Private attribute\n",
        "\n",
        "    def get_address(self): # Method\n",
        "        return self._address\n",
        "\n",
        "    def set_address(self, address): # Method\n",
        "        address = ''.join(filter(self._remove_special_characters, address))\n",
        "        self._address = address\n",
        "\n",
        "    def _remove_special_characters(self, character): # Private method\n",
        "        if character.isalnum() or character == ' ' or character == '-':\n",
        "            return True\n",
        "        else:\n",
        "            return False\n"
      ]
    },
    {
      "cell_type": "code",
      "execution_count": 12,
      "id": "a4e46c71-63e9-474e-91a6-9d9a323636dc",
      "metadata": {
        "editable": true,
        "id": "a4e46c71-63e9-474e-91a6-9d9a323636dc",
        "outputId": "f3fdcc29-3661-46e6-e645-397a94c9874c",
        "tags": []
      },
      "outputs": [
        {
          "name": "stdout",
          "output_type": "stream",
          "text": [
            "The student named Joan has the following address: Avinguda Buenos Aires nº 31 7e-1a\n"
          ]
        }
      ],
      "source": [
        "student = Student(\"Joan\", 24)\n",
        "student.set_address(\"Avinguda Buenos Aires nº 31! 7e-1a\")\n",
        "print(f\"The student named {student.name} has the following address: {student.get_address()}\")"
      ]
    },
    {
      "cell_type": "markdown",
      "id": "f4552012-e0e9-40af-8801-69d83733d433",
      "metadata": {
        "editable": true,
        "id": "f4552012-e0e9-40af-8801-69d83733d433",
        "tags": []
      },
      "source": [
        "---"
      ]
    },
    {
      "cell_type": "markdown",
      "id": "42f8be9a-cc71-4a58-97ac-1a54219a2d72",
      "metadata": {
        "editable": true,
        "id": "42f8be9a-cc71-4a58-97ac-1a54219a2d72",
        "tags": []
      },
      "source": [
        "## Object Oriented programming\n",
        "### Hands on\n",
        "\n",
        "Let's design a course registration system, where the requirements will be:\n",
        "\n",
        "1. Create a **Course** class, where each course has a name, a description and a list of enrolled students. You'll need to implement the next methods:\n",
        "    - Add a student to the course.\n",
        "    - Remove a student from the course.\n",
        "    - Show all students in the course."
      ]
    },
    {
      "cell_type": "code",
      "execution_count": 18,
      "id": "e5430dcf-a01a-4ea1-aff8-5bad4531ab1e",
      "metadata": {
        "editable": true,
        "id": "e5430dcf-a01a-4ea1-aff8-5bad4531ab1e",
        "tags": []
      },
      "outputs": [
        {
          "name": "stdout",
          "output_type": "stream",
          "text": [
            "Added Shirley to Python for Data Science course.\n",
            "Added Juyeon to Python for Data Science course.\n",
            "Students in Python for Data Science course:\n",
            "Shirley\n",
            "Juyeon\n",
            "Removed Juyeon from Python for Data Science course.\n",
            "Students in Python for Data Science course:\n",
            "Shirley\n"
          ]
        }
      ],
      "source": [
        "class Course:\n",
        "    def __init__(self, name, description):  \n",
        "        self.name = name \n",
        "        self.description = description  \n",
        "        self.students = [] \n",
        "\n",
        "    def add_student(self, student):  \n",
        "        self.students.append(student)\n",
        "        print(f\"Added {student} to {self.name} course.\")\n",
        "\n",
        "    def remove_student(self, student):  #\n",
        "        if student in self.students:\n",
        "            self.students.remove(student)\n",
        "            print(f\"Removed {student} from {self.name} course.\")\n",
        "        else:\n",
        "            print(f\"{student} is not in the course.\")\n",
        "\n",
        "    def show_students(self):  \n",
        "        if self.students:\n",
        "            print(f\"Students in {self.name} course:\")\n",
        "            for student in self.students:\n",
        "                print(student)\n",
        "        else:\n",
        "            print(f\"No students enrolled in {self.name} course yet.\")\n",
        "\n",
        "    #example\n",
        "    MiBA_course = Course ('Python for Data Science',\"Introduction to Python programming.\")\n",
        "   \n",
        "    MiBA_course.add_student(\"Shirley\")\n",
        "    MiBA_course.add_student(\"Juyeon\")\n",
        "    \n",
        "    MiBA_course.show_students()\n",
        "    \n",
        "    MiBA_course.remove_student(\"Juyeon\")\n",
        "    \n",
        "    MiBA_course.show_students()"
      ]
    },
    {
      "cell_type": "markdown",
      "id": "16cc578c-9fe3-4478-81da-3071e3adb318",
      "metadata": {
        "editable": true,
        "id": "16cc578c-9fe3-4478-81da-3071e3adb318",
        "tags": []
      },
      "source": [
        "## Object Oriented programming\n",
        "### Hands on\n",
        "\n",
        "2. Create a **Student** class, where each student has a name, ID number, address and a list of enrolled courses with the following methods:\n",
        "    - Enroll in a course.\n",
        "    - Drop a course.\n",
        "    - Show all registered student courses."
      ]
    },
    {
      "cell_type": "code",
      "execution_count": 22,
      "id": "fe4cce31-1ddf-4847-bc8d-924dc3e0dfe1",
      "metadata": {
        "editable": true,
        "id": "fe4cce31-1ddf-4847-bc8d-924dc3e0dfe1",
        "tags": []
      },
      "outputs": [
        {
          "name": "stdout",
          "output_type": "stream",
          "text": [
            "The student named Shirley with ID '10182800' has the following address: Calella Barcelona\n",
            "Shirley has enrolled in Artificial Intelligence.\n",
            "Shirley has enrolled in Python for Data Science.\n",
            "Shirley's enrolled courses:\n",
            "Artificial Intelligence\n",
            "Python for Data Science\n",
            "Shirley is not enrolled in Artificial intelligence.\n",
            "Shirley's enrolled courses:\n",
            "Artificial Intelligence\n",
            "Python for Data Science\n"
          ]
        }
      ],
      "source": [
        "class Student:\n",
        "    def __init__(self, name, student_id, address=None):  \n",
        "        self.name = name \n",
        "        self._student_id = student_id  \n",
        "        self._address = address\n",
        "        self._courses = [] \n",
        "\n",
        "    def get_address(self): \n",
        "        return self._address\n",
        "\n",
        "    def set_address(self, address): \n",
        "        address = ''.join(filter(self._remove_special_characters, address))\n",
        "        self._address = address\n",
        "\n",
        "    def _remove_special_characters(self, character): \n",
        "        return character.isalnum() or character in [' ', '-']\n",
        "\n",
        "    def enroll_in_course(self, course):  \n",
        "        if course not in self._courses:\n",
        "            self._courses.append(course)\n",
        "            print(f\"{self.name} has enrolled in {course}.\")\n",
        "        else:\n",
        "            print(f\"{self.name} is already enrolled in {course}.\")\n",
        "\n",
        "    def drop_course(self, course): \n",
        "        if course in self._courses:\n",
        "            self._courses.remove(course)\n",
        "            print(f\"{self.name} has dropped {course}.\")\n",
        "        else:\n",
        "            print(f\"{self.name} is not enrolled in {course}.\")\n",
        "\n",
        "    def show_courses(self):  \n",
        "        if self._courses:\n",
        "            print(f\"{self.name}'s enrolled courses:\")\n",
        "            for course in self._courses:\n",
        "                print(course)\n",
        "        else:\n",
        "            print(f\"{self.name} is not enrolled in any courses.\")\n",
        "\n",
        "\n",
        "#example\n",
        "student = Student(\"Shirley\", '10182800')\n",
        "student.set_address(\"Calella, Barcelona\")\n",
        "print(f\"The student named {student.name} with ID '{student._student_id}' has the following address: {student.get_address()}\")\n",
        "\n",
        "student.enroll_in_course(\"Artificial Intelligence\")\n",
        "student.enroll_in_course(\"Python for Data Science\")\n",
        "\n",
        "student.show_courses()\n",
        "\n",
        "student.drop_course(\"Artificial intelligence\")\n",
        "\n",
        "student.show_courses()\n"
      ]
    },
    {
      "cell_type": "markdown",
      "id": "5c54b2fe-691f-4520-b8d6-2515ba92b808",
      "metadata": {
        "editable": true,
        "id": "5c54b2fe-691f-4520-b8d6-2515ba92b808",
        "tags": []
      },
      "source": [
        "## Object Oriented programming\n",
        "### Hands on\n",
        "\n",
        "3. Create a central class that manages courses and students, **Registration** class, where you have a list of students and a list of courses, and methods:\n",
        "    - Enroll in a course.\n",
        "    - Drop a course.\n",
        "    - Show all the enrolled courses.\n",
        "    - Show all the students."
      ]
    },
    {
      "cell_type": "code",
      "execution_count": 26,
      "id": "863f30c7-3cf8-4ac9-8599-e7df8e0d483c",
      "metadata": {
        "editable": true,
        "id": "863f30c7-3cf8-4ac9-8599-e7df8e0d483c",
        "tags": []
      },
      "outputs": [],
      "source": [
        "class Registrar:\n",
        "    def __init__(self):  \n",
        "        self.students = []  \n",
        "        self.courses = []  \n",
        "\n",
        "    def add_student(self, student):  \n",
        "        self.students.append(student)\n",
        "        print(f\"Student '{student.name}' with ID '{student._student_id}' has been added to the registration system.\")\n",
        "\n",
        "    def add_course(self, course):  \n",
        "        self.courses.append(course)\n",
        "        print(f\"Course '{course}' has been added to the system.\")\n",
        "\n",
        "    def enroll_in_course(self, student, course):  \n",
        "        if student in self.students and course in self.courses:\n",
        "            student.enroll_in_course(course)\n",
        "            print(f\"Student '{student.name}' has been enrolled in course '{course}'.\")\n",
        "        else:\n",
        "            print(f\"Either the student '{student.name}' or the course '{course}' does not exist in the system.\")\n",
        "\n",
        "    def drop_course(self, student, course):  \n",
        "        if student in self.students and course in self.courses:\n",
        "            student.drop_course(course)\n",
        "            print(f\"Student '{student.name}' has been dropped from course '{course}'.\")\n",
        "        else:\n",
        "            print(f\"Either the student '{student.name}' or the course '{course}' does not exist in the system.\")\n",
        "\n",
        "    def show_all_courses(self):  \n",
        "        if self.courses:\n",
        "            print(\"Courses available in the system:\")\n",
        "            for course in self.courses:\n",
        "                print(f\" - {course}\")\n",
        "        else:\n",
        "            print(\"No courses are currently available in the system.\")\n",
        "\n",
        "    def show_all_students(self):  \n",
        "        if self.students:\n",
        "            print(\"Students registered in the system:\")\n",
        "            for student in self.students:\n",
        "                print(f\" - Name: {student.name}, ID: {student._student_id}\")\n",
        "        else:\n",
        "            print(\"No students are currently registered in the system.\")"
      ]
    },
    {
      "cell_type": "code",
      "execution_count": 29,
      "id": "2f31bfdd",
      "metadata": {},
      "outputs": [],
      "source": [
        "class Student:\n",
        "    def __init__(self, name, student_id): \n",
        "        self.name = name  \n",
        "        self._student_id = student_id \n",
        "        self._courses = []  \n",
        "\n",
        "    def enroll_in_course(self, course): \n",
        "        if course not in self._courses:\n",
        "            self._courses.append(course)\n",
        "        else:\n",
        "            print(f\"Student '{self.name}' is already enrolled in '{course}'.\")\n",
        "\n",
        "    def drop_course(self, course):  \n",
        "        if course in self._courses:\n",
        "            self._courses.remove(course)\n",
        "        else:\n",
        "            print(f\"Student '{self.name}' is not enrolled in '{course}', so cannot drop it.\")\n",
        "\n",
        "    def show_courses(self): \n",
        "        if self._courses:\n",
        "            print(f\"Student '{self.name}' is currently enrolled in the following courses:\")\n",
        "            for course in self._courses:\n",
        "                print(f\" - {course}\")\n",
        "        else:\n",
        "            print(f\"Student '{self.name}' is not enrolled in any courses.\")\n"
      ]
    },
    {
      "cell_type": "code",
      "execution_count": 30,
      "id": "f8b87cb8",
      "metadata": {},
      "outputs": [
        {
          "name": "stdout",
          "output_type": "stream",
          "text": [
            "Student 'Shirley Lin' with ID '10182800' has been added to the registration system.\n",
            "Student 'Juyeon Lee' with ID '10252073' has been added to the registration system.\n",
            "Course 'Artificial Intelligence' has been added to the system.\n",
            "Course 'Python for Data Science' has been added to the system.\n",
            "Student 'Shirley Lin' has been enrolled in course 'Artificial Intelligence'.\n",
            "Student 'Shirley Lin' has been enrolled in course 'Python for Data Science'.\n",
            "Student 'Juyeon Lee' has been enrolled in course 'Artificial Intelligence'.\n",
            "Students registered in the system:\n",
            " - Name: Shirley Lin, ID: 10182800\n",
            " - Name: Juyeon Lee, ID: 10252073\n",
            "Courses available in the system:\n",
            " - Artificial Intelligence\n",
            " - Python for Data Science\n",
            "Student 'Shirley Lin' is currently enrolled in the following courses:\n",
            " - Artificial Intelligence\n",
            " - Python for Data Science\n",
            "Student 'Shirley Lin' has been dropped from course 'Artificial Intelligence'.\n",
            "Student 'Shirley Lin' is currently enrolled in the following courses:\n",
            " - Python for Data Science\n"
          ]
        }
      ],
      "source": [
        "#example\n",
        "register_system = Registrar()\n",
        "\n",
        "student_1 = Student(\"Shirley Lin\", \"10182800\")\n",
        "student_2 = Student(\"Juyeon Lee\", \"10252073\")\n",
        "\n",
        "course_1 = \"Artificial Intelligence\"\n",
        "course_2 = \"Python for Data Science\"\n",
        "\n",
        "register_system.add_student(student_1)\n",
        "register_system.add_student(student_2)\n",
        "\n",
        "register_system.add_course(course_1)\n",
        "register_system.add_course(course_2)\n",
        "\n",
        "register_system.enroll_in_course(student_1, course_1)\n",
        "register_system.enroll_in_course(student_1, course_2)\n",
        "register_system.enroll_in_course(student_2, course_1)\n",
        "\n",
        "register_system.show_all_students()\n",
        "\n",
        "register_system.show_all_courses()\n",
        "\n",
        "student_1.show_courses()\n",
        "\n",
        "register_system.drop_course(student_1, course_1)\n",
        "\n",
        "student_1.show_courses()\n"
      ]
    },
    {
      "cell_type": "markdown",
      "id": "2958b01b-3472-4c95-ae1f-771edc638749",
      "metadata": {
        "editable": true,
        "id": "2958b01b-3472-4c95-ae1f-771edc638749",
        "tags": []
      },
      "source": [
        "## Object Oriented programming\n",
        "### Howework\n",
        "\n",
        "4. Let's add grades to each student's course and create method that yields the GPA given a student name or ID."
      ]
    },
    {
      "cell_type": "code",
      "execution_count": 31,
      "id": "00f36ffb",
      "metadata": {},
      "outputs": [],
      "source": [
        "class Student:\n",
        "    def __init__(self, name, student_id):  \n",
        "        self.name = name\n",
        "        self.student_id = student_id\n",
        "        self.courses = {}  \n",
        "\n",
        "    def enroll_in_course(self, course, grade=None): \n",
        "        if course not in self.courses:\n",
        "            self.courses[course] = grade\n",
        "        else:\n",
        "            print(f\"Student '{self.name}' is already enrolled in '{course}'.\")\n",
        "\n",
        "    def set_grade(self, course, grade):  \n",
        "        if course in self.courses:\n",
        "            self.courses[course] = grade\n",
        "        else:\n",
        "            print(f\"Student '{self.name}' is not enrolled in '{course}'.\")\n",
        "\n",
        "    def drop_course(self, course): \n",
        "        if course in self.courses:\n",
        "            del self.courses[course]\n",
        "        else:\n",
        "            print(f\"Student '{self.name}' is not enrolled in '{course}'.\")\n",
        "\n",
        "    def show_courses(self):  \n",
        "        if self.courses:\n",
        "            print(f\"Student '{self.name}' is currently enrolled in the courses:\")\n",
        "            for course, grade in self.courses.items():\n",
        "                grade_display = grade if grade is not None else \"No grade\"\n",
        "                print(f\" - {course}: {grade_display}\")\n",
        "        else:\n",
        "            print(f\"Student '{self.name}' is not enrolled in any courses.\")\n",
        "\n",
        "    def calculate_gpa(self): \n",
        "        total_grades = 0\n",
        "        num_courses_with_grades = 0\n",
        "\n",
        "        for grade in self.courses.values():\n",
        "            if grade is not None:  \n",
        "                total_grades += grade\n",
        "                num_courses_with_grades += 1\n",
        "\n",
        "        if num_courses_with_grades == 0:\n",
        "            print(f\"Student '{self.name}' has no graded courses.\")\n",
        "            return 0.0\n",
        "\n",
        "        gpa = total_grades / num_courses_with_grades\n",
        "        return gpa\n"
      ]
    },
    {
      "cell_type": "code",
      "execution_count": 35,
      "id": "510ffbfd",
      "metadata": {},
      "outputs": [],
      "source": [
        "\n",
        "class Registrar:\n",
        "    def __init__(self): \n",
        "        self.students = []  \n",
        "        self.courses = []  \n",
        "\n",
        "    def add_student(self, student): \n",
        "        self.students.append(student)\n",
        "        print(f\"Student '{student.name}' with ID '{student.student_id}' has been added to the system.\")\n",
        "\n",
        "    def add_course(self, course):  \n",
        "        self.courses.append(course)\n",
        "        print(f\"Course '{course}' has been added to the system.\")\n",
        "\n",
        "    def enroll_in_course(self, student, course, grade=None):  \n",
        "        if student in self.students and course in self.courses:\n",
        "            student.enroll_in_course(course, grade)\n",
        "            print(f\"Student '{student.name}' has been enrolled in course '{course}'.\")\n",
        "        else:\n",
        "             print(f\"Either the student '{student.name}' or the course '{course}' does not exist in the system.\")\n",
        "\n",
        "    def drop_course(self, student, course):  \n",
        "        if student in self.students and course in self.courses:\n",
        "            student.drop_course(course)\n",
        "            print(f\"Student '{student.name}' has dropped course '{course}'.\")\n",
        "        else:\n",
        "            print(f\"Either the student '{student.name}' or the course '{course}' does not exist in the system.\")\n",
        "\n",
        "    def set_grade(self, student, course, grade): \n",
        "        if student in self.students and course in self.courses:\n",
        "            student.set_grade(course, grade)\n",
        "            print(f\"Grade '{grade}' set for course '{course}' for student '{student.name}'.\")\n",
        "        else:\n",
        "            print(f\"Either the student '{student.name}' or the course '{course}' does not exist in the system.\")\n",
        "\n",
        "    def show_all_courses(self): \n",
        "        if self.courses:\n",
        "            print(\"Courses available in the system:\")\n",
        "            for course in self.courses:\n",
        "                print(f\" - {course}\")\n",
        "        else:\n",
        "            print(\"No courses are currently available in the system.\")\n",
        "\n",
        "    def show_all_students(self):  \n",
        "        if self.students:\n",
        "            print(\"Students registered in the system:\")\n",
        "            for student in self.students:\n",
        "                print(f\" - Name: {student.name}, ID: {student.student_id}\")\n",
        "        else:\n",
        "            print(\"No students are currently registered in the system.\")\n",
        "\n",
        "    def get_student_by_name_or_id(self, identifier):  \n",
        "        for student in self.students:\n",
        "            if student.name == identifier or student.student_id == identifier:\n",
        "                return student\n",
        "        print(f\"No student found with name or ID '{identifier}'.\")\n",
        "        return None\n",
        "\n",
        "    def show_gpa(self, identifier):  \n",
        "        student = self.get_student_by_name_or_id(identifier)\n",
        "        if student:\n",
        "            gpa = student.calculate_gpa()\n",
        "            print(f\"GPA for student '{student.name}' (ID: {student.student_id}) is: {gpa:.2f}\")\n"
      ]
    },
    {
      "cell_type": "code",
      "execution_count": 37,
      "id": "f6def7f3",
      "metadata": {},
      "outputs": [
        {
          "name": "stdout",
          "output_type": "stream",
          "text": [
            "Student 'Shirley Lin' with ID '10182800' has been added to the system.\n",
            "Student 'Juyeon Lee' with ID '10152073' has been added to the system.\n",
            "Course 'Artificial Intelligence' has been added to the system.\n",
            "Course 'Python for Data Science' has been added to the system.\n",
            "Student 'Shirley Lin' has been enrolled in course 'Artificial Intelligence'.\n",
            "Student 'Shirley Lin' has been enrolled in course 'Python for Data Science'.\n",
            "Student 'Juyeon Lee' has been enrolled in course 'Artificial Intelligence'.\n",
            "Grade '93' set for course 'Artificial Intelligence' for student 'Shirley Lin'.\n",
            "Grade '88' set for course 'Python for Data Science' for student 'Shirley Lin'.\n",
            "Grade '90' set for course 'Artificial Intelligence' for student 'Juyeon Lee'.\n",
            "GPA for student 'Shirley Lin' (ID: 10182800) is: 90.50\n",
            "GPA for student 'Shirley Lin' (ID: 10182800) is: 90.50\n"
          ]
        }
      ],
      "source": [
        "register_system = Registrar()\n",
        "\n",
        "student_1 = Student(\"Shirley Lin\", \"10182800\")\n",
        "student_2 = Student(\"Juyeon Lee\", \"10152073\")\n",
        "\n",
        "course_1 = \"Artificial Intelligence\"\n",
        "course_2 = \"Python for Data Science\"\n",
        "\n",
        "register_system.add_student(student_1)\n",
        "register_system.add_student(student_2)\n",
        "\n",
        "register_system.add_course(course_1)\n",
        "register_system.add_course(course_2)\n",
        "\n",
        "register_system.enroll_in_course(student_1, course_1)  \n",
        "register_system.enroll_in_course(student_1, course_2)  \n",
        "register_system.enroll_in_course(student_2, course_1)  \n",
        "\n",
        "register_system.set_grade(student_1, course_1, 93)\n",
        "register_system.set_grade(student_1, course_2, 88)\n",
        "register_system.set_grade(student_2, course_1, 90)\n",
        "\n",
        "register_system.show_gpa(\"Shirley Lin\")\n",
        "register_system.show_gpa(\"10182800\")  \n"
      ]
    },
    {
      "cell_type": "markdown",
      "id": "76c565a9-dc30-464c-980d-d522cd5246f4",
      "metadata": {
        "editable": true,
        "id": "76c565a9-dc30-464c-980d-d522cd5246f4",
        "tags": []
      },
      "source": [
        "## That's all!"
      ]
    }
  ],
  "metadata": {
    "colab": {
      "provenance": []
    },
    "kernelspec": {
      "display_name": "Python 3",
      "language": "python",
      "name": "python3"
    },
    "language_info": {
      "codemirror_mode": {
        "name": "ipython",
        "version": 3
      },
      "file_extension": ".py",
      "mimetype": "text/x-python",
      "name": "python",
      "nbconvert_exporter": "python",
      "pygments_lexer": "ipython3",
      "version": "3.11.4"
    }
  },
  "nbformat": 4,
  "nbformat_minor": 5
}
