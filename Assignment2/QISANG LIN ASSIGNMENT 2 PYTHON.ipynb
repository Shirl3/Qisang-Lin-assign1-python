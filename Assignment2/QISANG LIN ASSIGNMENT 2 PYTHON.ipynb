{
 "cells": [
  {
   "cell_type": "markdown",
   "metadata": {},
   "source": [
    "Exercise 1: FizzBuzz\n",
    "1. Write a FizzBuzz Function: Create a function fizzbuzz(n) that takes an integer n as a parameter.\n",
    "2. Implement FizzBuzz Logic: The function should print:\n",
    "○ \"Fizz\" for multiples of 3\n",
    "○ \"Buzz\" for multiples of 5\n",
    "○ \"FizzBuzz\" for multiples of both 3 and 5\n",
    "○ The number itself for other numbers\n",
    "3. Call the Function: Call the function for numbers 1 to 20."
   ]
  },
  {
   "cell_type": "code",
   "execution_count": 1,
   "metadata": {},
   "outputs": [
    {
     "name": "stdout",
     "output_type": "stream",
     "text": [
      "1\n",
      "2\n",
      "Fizz\n",
      "4\n",
      "Buzz\n",
      "Fizz\n",
      "7\n",
      "8\n",
      "Fizz\n",
      "Buzz\n",
      "11\n",
      "Fizz\n",
      "13\n",
      "14\n",
      "FizzBuzz\n",
      "16\n",
      "17\n",
      "Fizz\n",
      "19\n",
      "Buzz\n"
     ]
    }
   ],
   "source": [
    "#exercise1\n",
    "def fizzbuzz(n):\n",
    "    for i in range(1, n + 1):\n",
    "        if i % 3 == 0 and i % 5 == 0:\n",
    "            print(\"FizzBuzz\")\n",
    "        elif i % 3 == 0:\n",
    "            print(\"Fizz\")\n",
    "        elif i % 5 == 0:\n",
    "            print(\"Buzz\")\n",
    "        else:\n",
    "            print(i)\n",
    "\n",
    "fizzbuzz(20)\n"
   ]
  },
  {
   "cell_type": "markdown",
   "metadata": {},
   "source": [
    "Exercise 2: Basic Data Filtering\n",
    "1. Create a List of Mixed Data Types: Create a list that contains a mix of integers, strings, and floats.\n",
    "2. Filter the List: Use list comprehension to create a new list that contains only the integers from the original list.\n",
    "3. Print the New List: Output the filtered list of integers."
   ]
  },
  {
   "cell_type": "code",
   "execution_count": 2,
   "metadata": {},
   "outputs": [
    {
     "data": {
      "text/plain": [
       "[1, 88, 29]"
      ]
     },
     "execution_count": 2,
     "metadata": {},
     "output_type": "execute_result"
    }
   ],
   "source": [
    "#exercise2\n",
    "mixed_list = [1,5.8 , 88, 'jane', 'esade', 29]\n",
    "filtered_integers = [item for item in mixed_list if isinstance(item, int)]\n",
    "filtered_integers"
   ]
  },
  {
   "cell_type": "markdown",
   "metadata": {},
   "source": [
    "Exercise 3: Simple To-Do List\n",
    "1. Create an Empty List: Start with an empty list called todo_list.\n",
    "2. Define Functions:\n",
    "○ A function add_task(task) that adds a task to the list.\n",
    "○ A function show_tasks() that prints all tasks in the list."
   ]
  },
  {
   "cell_type": "code",
   "execution_count": 1,
   "metadata": {},
   "outputs": [
    {
     "name": "stdout",
     "output_type": "stream",
     "text": [
      "todo_list:\n",
      "1. dance\n",
      "2. swim\n"
     ]
    }
   ],
   "source": [
    "#exercise3\n",
    "todo_list = []\n",
    "\n",
    "def add_task(task):\n",
    "    todo_list.append(task)\n",
    "\n",
    "\n",
    "def show_tasks():\n",
    "    if not todo_list:\n",
    "        print('todo_list is empty')\n",
    "    else:\n",
    "        print('todo_list:')\n",
    "        for i, task in enumerate(todo_list, start=1):\n",
    "            print(f\"{i}. {task}\")\n",
    "\n",
    "    \n",
    "add_task('dance')\n",
    "add_task('swim')\n",
    "\n",
    "show_tasks()"
   ]
  },
  {
   "cell_type": "markdown",
   "metadata": {},
   "source": [
    "Exercise 4: Temperature Converter\n",
    "1. Define a Conversion Function: Write a function celsius_to_fahrenheit(celsius) that converts Celsius to Fahrenheit.\n",
    "2. Print the Result: Output the converted temperature for 22ºF, 46ºF, 51ºF and 76ºF."
   ]
  },
  {
   "cell_type": "code",
   "execution_count": 15,
   "metadata": {},
   "outputs": [
    {
     "name": "stdout",
     "output_type": "stream",
     "text": [
      "22ºF equals to 22.00ºC\n",
      "46ºF equals to 46.00ºC\n",
      "51ºF equals to 51.00ºC\n",
      "76ºF equals to 76.00ºC\n"
     ]
    }
   ],
   "source": [
    "#exercise4\n",
    "def celsius_to_fahrenheit(celsius):\n",
    "    fahrenheit = (celsius * 9/5) + 32\n",
    "    return fahrenheit\n",
    "\n",
    "temperatures_fahrenheit = [22, 46, 51, 76]\n",
    "\n",
    "for temp in temperatures_fahrenheit:\n",
    "    celsius = (temp - 32) * 5/9\n",
    "    fahrenheit_converted = celsius_to_fahrenheit(celsius)\n",
    "    print(f\"{temp}ºF equals to {fahrenheit_converted:.2f}ºC\")"
   ]
  }
 ],
 "metadata": {
  "kernelspec": {
   "display_name": "Python 3",
   "language": "python",
   "name": "python3"
  },
  "language_info": {
   "codemirror_mode": {
    "name": "ipython",
    "version": 3
   },
   "file_extension": ".py",
   "mimetype": "text/x-python",
   "name": "python",
   "nbconvert_exporter": "python",
   "pygments_lexer": "ipython3",
   "version": "3.11.4"
  }
 },
 "nbformat": 4,
 "nbformat_minor": 2
}
