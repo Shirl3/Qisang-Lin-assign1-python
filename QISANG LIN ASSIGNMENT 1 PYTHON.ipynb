{
 "cells": [
  {
   "cell_type": "code",
   "execution_count": null,
   "metadata": {},
   "outputs": [],
   "source": [
    "#Exercise 1: Print a Greeting • Write a Python program that prints a greeting message, such as \"Hello, Python!\".\n",
    "\n",
    "print('Hello! jupyter')\n"
   ]
  },
  {
   "cell_type": "code",
   "execution_count": null,
   "metadata": {},
   "outputs": [],
   "source": [
    "#Exercise 2: Basic Arithmetic  Create a program that: Defines two variables, a and b, with numerical values. Prints their sum, difference, product, and quotient.\n",
    "\n",
    "a = 8\n",
    "b = 18\n",
    "\n",
    "total = a + b\n",
    "difference = b - a\n",
    "product =a * b\n",
    "quotient = b / a\n",
    "\n",
    "print(\"total = \",total)\n",
    "print(\"difference = \",difference)\n",
    "print(\"product = \",product)\n",
    "print(\"quotient = \",quotient)\n"
   ]
  },
  {
   "cell_type": "code",
   "execution_count": null,
   "metadata": {},
   "outputs": [],
   "source": [
    "#Exercise 3: String Manipulation  Define a variable name and assign it your name. Write a program that prints a message saying\"Hello, [name)!\" where (name] is the value of the variable.\n",
    "\n",
    "name = 'Qisang Lin'\n",
    "print(f'Hello, {name}!')"
   ]
  },
  {
   "cell_type": "code",
   "execution_count": null,
   "metadata": {},
   "outputs": [],
   "source": [
    "#Exercise 4: Lists \n",
    "#● Create a list called universities with at least five different university names.\n",
    "#● Print the entire list.\n",
    "#● Print the first and last university in the list.\n",
    "\n",
    "universities = ['ESADE', 'ECUST', 'NUS', 'HKU', 'IE']\n",
    "\n",
    "print(universities)\n",
    "print(universities[0])\n",
    "print(universities[4])"
   ]
  },
  {
   "cell_type": "code",
   "execution_count": null,
   "metadata": {},
   "outputs": [],
   "source": [
    "#Exercise 5: Dictionaries\n",
    "#● Create a dictionary called student with keys: name, age, and grade, and assign appropriate values to each key.\n",
    "#● Write a program that prints each key-value pair in the dictionary\n",
    "\n",
    "student = {\n",
    "    'name' : 'Shirley Lin',\n",
    "    'age': 24,\n",
    "    'grade' : 'A'\n",
    "}\n",
    "\n",
    "for key, value in student.items():\n",
    "    print(f'{key}: {value}')\n"
   ]
  },
  {
   "cell_type": "code",
   "execution_count": null,
   "metadata": {},
   "outputs": [],
   "source": [
    "#Exercise 6: Tuples\n",
    "#● Define a tuple called coordinates with two values representing a point in 2D space (e.g., (x, y)).\n",
    "#● Print the value of coordinates and access each element by its index.\n",
    "\n",
    "coordinates = (1,2)\n",
    "\n",
    "print('coordinates:',coordinates)\n",
    "print('x:', coordinates[0])\n",
    "print('y:', coordinates[1])"
   ]
  },
  {
   "cell_type": "code",
   "execution_count": null,
   "metadata": {},
   "outputs": [],
   "source": [
    "#Exercise 7: Sets\n",
    "#● Create a set called colors with the values: \"red\", \"green\", \"blue\".\n",
    "#● Add another color to the set.\n",
    "#● Try adding a duplicate color and observe what happens.\n",
    "#● Print the set and remove one color from it.\n",
    "#● Create another set named light_colors and merge colors and light_colors.\n",
    "\n",
    "colors = {\"red\", \"green\", \"blue\"}\n",
    "colors.add(\"pink\")\n",
    "\n",
    "print('colors ver1:',colors)\n",
    "\n",
    "colors.add('red')\n",
    "print('colors ver2:',colors)\n",
    "\n",
    "colors.discard('green')\n",
    "print('colors ver3:', colors)\n",
    "\n",
    "light_colors = ('light_red', 'light_pink', 'light_blue')\n",
    "merged_colors = colors.union(light_colors)\n",
    "print('merged colors:', merged_colors)"
   ]
  },
  {
   "cell_type": "code",
   "execution_count": null,
   "metadata": {},
   "outputs": [],
   "source": [
    "#Exercise 8: Conditional Statements\n",
    "#● Write a program that:\n",
    "#○ Takes an input number from the user.\n",
    "#○ Checks if the number is positive, negative, or zero.\n",
    "#○ Prints an appropriate message based on the result.\n",
    "\n",
    "number = float(input('Enter a number:' ))\n",
    "\n",
    "if number > 0:\n",
    "    print(\"The number is positive.\")\n",
    "elif number < 0:\n",
    "    print(\"The number is negative.\")\n",
    "else:\n",
    "    print(\"The number is zero.\")"
   ]
  },
  {
   "cell_type": "code",
   "execution_count": null,
   "metadata": {},
   "outputs": [],
   "source": [
    "#Exercise 9: For Loop\n",
    "#● Create a list of numbers from 1 to 5.\n",
    "#● Use a for loop to iterate through the list and print each number.\n",
    "\n",
    "numbers = [1, 2, 3, 4, 5]\n",
    "\n",
    "for number in numbers:\n",
    "    print(number)\n"
   ]
  },
  {
   "cell_type": "code",
   "execution_count": null,
   "metadata": {},
   "outputs": [],
   "source": [
    "#Exercise 10: While Loop\n",
    "#● Write a program that uses a while loop to print numbers from 1 to 5.\n",
    "#● Ensure the loop terminates correctly.\n",
    "\n",
    "counter = 1\n",
    "\n",
    "while counter <= 5:\n",
    "    print(counter)\n",
    "    counter += 1\n",
    "else:\n",
    "    print('loop finished.')"
   ]
  },
  {
   "cell_type": "code",
   "execution_count": null,
   "metadata": {},
   "outputs": [],
   "source": [
    "#Exercise 11: Match Statement (Python 3.10+)\n",
    "#● Write a program that:\n",
    "#○ Asks the user to input a grade (e.g., \"A\", \"B\", \"C\", \"D\", or \"F\").\n",
    "#○ Use a match statement to print a corresponding message for each grade:\n",
    "#■ \"A\": \"Excellent!\"\n",
    "#■ \"B\": \"Good job!\"\n",
    "#■ \"C\": \"Fair.\"\n",
    "#■ \"D\": \"Needs improvement.\"\n",
    "#■ \"F\": \"Failing.\"\n",
    "#○ Handle invalid input by printing a default message.\n",
    "\n",
    "grade = input('Enter a grade (A, B, C, D, F):' )\n",
    "\n",
    "match grade:\n",
    "    case'A':\n",
    "        print(\"Excellent!\")\n",
    "    case 'B':\n",
    "        print(\"Good job!\")\n",
    "    case 'C':\n",
    "        print(\"Fair.\")\n",
    "    case 'D':\n",
    "        print(\"Needs improvement.\")\n",
    "    case 'F':\n",
    "        print(\"Failing.\")\n",
    "    case _:\n",
    "        print(\"Unknown grade.\")"
   ]
  },
  {
   "cell_type": "code",
   "execution_count": null,
   "metadata": {},
   "outputs": [],
   "source": [
    "#Exercise 12: Define a Function\n",
    "#● Write a function called greet that takes a name as an argument and prints \"Hello, [name]!\".\n",
    "#● Call the function with your own name.\n",
    "\n",
    "def greet(name):\n",
    "    print(f\"Hello, {name}!\")\n",
    "\n",
    "greet(\"Qisang Lin\")  "
   ]
  },
  {
   "cell_type": "code",
   "execution_count": null,
   "metadata": {},
   "outputs": [],
   "source": [
    "#Exercise 13: Function with Return Value\n",
    "#● Define a function called square that takes a number as an argument and returns its square.\n",
    "#● Print the result of calling this function with different numbers.\n",
    "\n",
    "def square(number):\n",
    "    return number ** 2\n",
    "\n",
    "print(\"Square of 1:\", square(1))\n",
    "print(\"Square of 2:\", square(2))\n"
   ]
  },
  {
   "cell_type": "code",
   "execution_count": null,
   "metadata": {},
   "outputs": [],
   "source": [
    "#Exercise 14: Function with Default Parameters\n",
    "#● Write a function called multiply that takes two parameters, a and b, and returns their product. Set a default value of 1 for the parameter b.\n",
    "#● Test the function with and without providing the second argument.\n",
    "\n",
    "def multiply(a, b = 1):\n",
    "    return a * b\n",
    "\n",
    "print(\"Multiply 3 and 2:\", multiply(3, 2))\n",
    "print(\"Multiply 4 (default b):\", multiply(4))  "
   ]
  },
  {
   "cell_type": "code",
   "execution_count": null,
   "metadata": {},
   "outputs": [],
   "source": [
    "#Exercise 15: List Comprehension\n",
    "#● Create a list of numbers from 1 to 10.\n",
    "#● Use list comprehension to create a new list that contains the squares of these numbers.\n",
    "#● Print the new list.\n",
    "\n",
    "numbers = list(range(1, 11))\n",
    "\n",
    "squares = [num ** 2 for num in numbers]\n",
    "print(\"Squares of numbers from 1 to 10:\", squares)"
   ]
  },
  {
   "cell_type": "code",
   "execution_count": null,
   "metadata": {},
   "outputs": [],
   "source": [
    "#Exercise 16: Nested Data Structures\n",
    "#● Create a dictionary where the keys are names of students and the values are lists of their grades.\n",
    "#● Write a function that takes the dictionary and prints the average grade for each student.\n",
    "\n",
    "students_grades = {\n",
    "    'Jeno' : [90, 95, 100],\n",
    "    'Hyunjae' : [95.91,99],\n",
    "    'Juyeon' : [80, 87,92]\n",
    "}\n",
    "\n",
    "def students_average_grades(grades_dict):\n",
    "    for student, grades in grades_dict.items():\n",
    "        average_grade = sum(grades) / len(grades)\n",
    "        print(f\"Average grade for{student} : {average_grade}\")\n",
    "\n",
    "students_average_grades(students_grades)"
   ]
  },
  {
   "cell_type": "code",
   "execution_count": null,
   "metadata": {},
   "outputs": [],
   "source": [
    "#Exercise 17: Simple Calculator\n",
    "#● Write a program that:\n",
    "#○ Defines a function calculate which takes three parameters: two numbers and an operator (+, -, *, /).\n",
    "#○ Performs the operation and returns the result.\n",
    "#○ Ask the user for the two numbers and the operator, then call the function and print the result.\n",
    "\n",
    "def calculate(number1, number2,operator)\n",
    "    if operator == '+':\n",
    "        return number1 + number2\n",
    "    elif operator == '-':\n",
    "        return number1 - number2\n",
    "     elif operator == '*':\n",
    "        return number1 * number2\n",
    "     elif operator == '/':\n",
    "        return number1 / number2\n",
    "    else:\n",
    "        return None\n",
    "    \n",
    "number1 = float(input(\"Enter number1: \"))\n",
    "number2 = float(input(\"Enter number2: \"))\n",
    "operation = input(\"Enter operator (+, -, *, /): \")\n",
    "\n",
    "result = calculate(number1, number2, operation)\n",
    "if result is not None:\n",
    "    print(\"Result:\", result)\n",
    "else:\n",
    "    print(\"Invalid operator!\")\n"
   ]
  }
 ],
 "metadata": {
  "kernelspec": {
   "display_name": "base",
   "language": "python",
   "name": "python3"
  },
  "language_info": {
   "codemirror_mode": {
    "name": "ipython",
    "version": 3
   },
   "file_extension": ".py",
   "mimetype": "text/x-python",
   "name": "python",
   "nbconvert_exporter": "python",
   "pygments_lexer": "ipython3",
   "version": "3.11.4"
  }
 },
 "nbformat": 4,
 "nbformat_minor": 2
}
